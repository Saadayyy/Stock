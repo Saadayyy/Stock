{
 "cells": [
  {
   "cell_type": "code",
   "execution_count": null,
   "id": "2e4f9687-e3ee-44f5-bc61-568c22894fdc",
   "metadata": {},
   "outputs": [],
   "source": [
    "import yfinance as yf"
   ]
  },
  {
   "cell_type": "code",
   "execution_count": null,
   "id": "49800b22-3a49-4a7f-bb55-1e680ad70c5b",
   "metadata": {},
   "outputs": [],
   "source": [
    "sp500 = yf.Ticker(\"^GSPC\")\n",
    "\n",
    "sp500 = sp500.history(period=\"max\")\n"
   ]
  },
  {
   "cell_type": "code",
   "execution_count": null,
   "id": "37838b7c-d07d-4e34-b70a-8c1377093ebc",
   "metadata": {},
   "outputs": [],
   "source": [
    "sp500"
   ]
  },
  {
   "cell_type": "code",
   "execution_count": null,
   "id": "85d876ff-90c8-4a90-9d65-b67e6d7281f7",
   "metadata": {},
   "outputs": [],
   "source": [
    "sp500.index\n"
   ]
  },
  {
   "cell_type": "code",
   "execution_count": null,
   "id": "29ee7b6c-d324-4007-8122-b8d479f4cf43",
   "metadata": {},
   "outputs": [],
   "source": [
    "sp500.plot.line(y=\"Close\", use_index=True)"
   ]
  },
  {
   "cell_type": "code",
   "execution_count": null,
   "id": "0df536d4-fead-466d-9f21-9ac1d128db2a",
   "metadata": {},
   "outputs": [],
   "source": [
    "sp500.drop(columns=[\"Dividends\", \"Stock Splits\"], inplace=True)"
   ]
  },
  {
   "cell_type": "code",
   "execution_count": null,
   "id": "bd6b0365-9d70-497e-952a-e8c1ff9e7c33",
   "metadata": {},
   "outputs": [],
   "source": [
    "sp500[\"Tomorrow\"] = sp500[\"Close\"].shift(-1)\n",
    "sp500"
   ]
  },
  {
   "cell_type": "code",
   "execution_count": null,
   "id": "ff6ea3de-bdbc-44cd-a0d3-e212dabf3c79",
   "metadata": {},
   "outputs": [],
   "source": [
    "sp500[\"Target\"] = (sp500[\"Tomorrow\"] > sp500[\"Close\"]).astype(int)\n",
    "sp500"
   ]
  },
  {
   "cell_type": "code",
   "execution_count": null,
   "id": "f6e77ce1-659d-4b2c-bcda-17015e8efe9f",
   "metadata": {},
   "outputs": [],
   "source": [
    "sp500 = sp500.loc[\"1990-01-01\":].copy()\n",
    "sp500"
   ]
  },
  {
   "cell_type": "code",
   "execution_count": null,
   "id": "adc42ca8-1083-4e8a-8540-def9ac4cc873",
   "metadata": {},
   "outputs": [],
   "source": [
    "train = sp500.iloc[:-100]\n",
    "test = sp500.iloc[-100:]\n",
    "predictors = [\"Close\", \"Volume\", \"Open\", \"High\", \"Low\"]"
   ]
  },
  {
   "cell_type": "code",
   "execution_count": null,
   "id": "0796037c-229d-4340-89a0-82cc0d6651cd",
   "metadata": {},
   "outputs": [],
   "source": [
    "from sklearn.ensemble import RandomForestClassifier\n",
    "\n",
    "model = RandomForestClassifier(n_estimators=100, min_samples_split=100, random_state=1)\n",
    "model.fit(train[predictors], train[\"Target\"])"
   ]
  },
  {
   "cell_type": "code",
   "execution_count": null,
   "id": "30636924-a9bb-4075-b838-8764aac15791",
   "metadata": {},
   "outputs": [],
   "source": [
    "from sklearn.metrics import precision_score\n",
    "import pandas as pd\n",
    "\n",
    "preds = model.predict(test[predictors])\n",
    "preds = pd.Series(preds, index=test.index)"
   ]
  },
  {
   "cell_type": "code",
   "execution_count": null,
   "id": "812ce133-5f3b-44c9-bb9f-456ffa9546ed",
   "metadata": {},
   "outputs": [],
   "source": [
    "precision = precision_score(test[\"Target\"], preds, zero_division=0)\n",
    "print(f\"Precision Score: {precision}\")"
   ]
  },
  {
   "cell_type": "code",
   "execution_count": null,
   "id": "d99655f8-67d1-4df1-83ab-c5f62b365c02",
   "metadata": {},
   "outputs": [],
   "source": [
    "combined = pd.concat([test[\"Target\"], preds.rename(\"Predictions\")], axis=1)\n",
    "combined.plot()"
   ]
  },
  {
   "cell_type": "code",
   "execution_count": null,
   "id": "09bf624d-f42a-480b-91d8-142eee7950d0",
   "metadata": {},
   "outputs": [],
   "source": [
    "def predict(train, test, predictors, model):\n",
    "    model.fit(train[predictors], train[\"Target\"])\n",
    "    preds = model.predict(test[predictors])\n",
    "    preds = pd.Series(preds, index=test.index, name=\"Predictions\")\n",
    "    combined = pd.concat([test[\"Target\"], preds], axis=1)\n",
    "    return combined"
   ]
  },
  {
   "cell_type": "code",
   "execution_count": 106,
   "id": "94766cbb-888b-4d14-9dcd-a585275682ca",
   "metadata": {},
   "outputs": [],
   "source": [
    "def backtest(data, model, predictors, start=2500, step=250):\n",
    "    all_predictions = []\n",
    "    \n",
    "    for i in range(start, data.shape[0], step):\n",
    "        train = data.iloc[0:i].copy()\n",
    "        test = data.iloc[i: (i+step)].copy()\n",
    "        predictions = predict(train, test, predictors, model)\n",
    "        all_predictions.append(predictions)\n",
    "    return pd.concat(all_predictions)"
   ]
  },
  {
   "cell_type": "code",
   "execution_count": 107,
   "id": "1125b13e-78b2-4d8b-8128-fec41574fd35",
   "metadata": {},
   "outputs": [],
   "source": [
    "predictions = backtest(sp500, model, predictors)"
   ]
  },
  {
   "cell_type": "code",
   "execution_count": 108,
   "id": "6295de20-311e-4c1f-87ac-5ff1bac7bc0e",
   "metadata": {},
   "outputs": [
    {
     "data": {
      "text/plain": [
       "Predictions\n",
       "0    3588\n",
       "1    2596\n",
       "Name: count, dtype: int64"
      ]
     },
     "execution_count": 108,
     "metadata": {},
     "output_type": "execute_result"
    }
   ],
   "source": [
    "predictions[\"Predictions\"].value_counts()"
   ]
  },
  {
   "cell_type": "code",
   "execution_count": 110,
   "id": "7cddc289-c0d5-4d6f-a3cb-391db8cf34f9",
   "metadata": {},
   "outputs": [
    {
     "data": {
      "text/plain": [
       "0.5288906009244992"
      ]
     },
     "execution_count": 110,
     "metadata": {},
     "output_type": "execute_result"
    }
   ],
   "source": [
    "precision_score(predictions[\"Target\"], predictions[\"Predictions\"])"
   ]
  },
  {
   "cell_type": "code",
   "execution_count": 111,
   "id": "0d3a2ae5-3901-4b2d-8eff-bc68ba334f80",
   "metadata": {},
   "outputs": [
    {
     "data": {
      "text/plain": [
       "Target\n",
       "1    0.534929\n",
       "0    0.465071\n",
       "Name: count, dtype: float64"
      ]
     },
     "execution_count": 111,
     "metadata": {},
     "output_type": "execute_result"
    }
   ],
   "source": [
    "predictions[\"Target\"].value_counts() / predictions.shape[0]\n"
   ]
  },
  {
   "cell_type": "code",
   "execution_count": 116,
   "id": "01b7bc50-472a-40ec-bcf4-96a355d724da",
   "metadata": {},
   "outputs": [],
   "source": [
    "horizons = [2, 5, 60, 250, 1000]\n",
    "new_predictors = []\n",
    "\n",
    "for horizon in horizons:\n",
    "    rolling_averages = sp500.rolling(horizon).mean()\n",
    "\n",
    "    ratio_column = f\"Close_Ratio_{horizon}\"\n",
    "    sp500[ratio_column] = sp500[\"Close\"] / rolling_averages[\"Close\"]\n",
    "\n",
    "    trend_column = f\"Trend_{horizon}\"\n",
    "    sp500[trend_column] = sp500.shift(1).rolling(horizon).sum()[\"Target\"]\n",
    "\n",
    "    new_predictors += [ratio_column, trend_column]\n"
   ]
  },
  {
   "cell_type": "code",
   "execution_count": 117,
   "id": "76063e8c-2301-4642-b6dd-17ebc1eedfc9",
   "metadata": {},
   "outputs": [
    {
     "data": {
      "text/html": [
       "<div>\n",
       "<style scoped>\n",
       "    .dataframe tbody tr th:only-of-type {\n",
       "        vertical-align: middle;\n",
       "    }\n",
       "\n",
       "    .dataframe tbody tr th {\n",
       "        vertical-align: top;\n",
       "    }\n",
       "\n",
       "    .dataframe thead th {\n",
       "        text-align: right;\n",
       "    }\n",
       "</style>\n",
       "<table border=\"1\" class=\"dataframe\">\n",
       "  <thead>\n",
       "    <tr style=\"text-align: right;\">\n",
       "      <th></th>\n",
       "      <th>Open</th>\n",
       "      <th>High</th>\n",
       "      <th>Low</th>\n",
       "      <th>Close</th>\n",
       "      <th>Volume</th>\n",
       "      <th>Tomorrow</th>\n",
       "      <th>Target</th>\n",
       "      <th>Close_Ratio_2</th>\n",
       "      <th>Trend_2</th>\n",
       "      <th>Close_Ratio_5</th>\n",
       "      <th>Trend_5</th>\n",
       "      <th>Close_Ratio_60</th>\n",
       "      <th>Trend_60</th>\n",
       "      <th>Close_Ratio_250</th>\n",
       "      <th>Trend_250</th>\n",
       "      <th>Close_Ratio_1000</th>\n",
       "      <th>Trend_1000</th>\n",
       "    </tr>\n",
       "    <tr>\n",
       "      <th>Date</th>\n",
       "      <th></th>\n",
       "      <th></th>\n",
       "      <th></th>\n",
       "      <th></th>\n",
       "      <th></th>\n",
       "      <th></th>\n",
       "      <th></th>\n",
       "      <th></th>\n",
       "      <th></th>\n",
       "      <th></th>\n",
       "      <th></th>\n",
       "      <th></th>\n",
       "      <th></th>\n",
       "      <th></th>\n",
       "      <th></th>\n",
       "      <th></th>\n",
       "      <th></th>\n",
       "    </tr>\n",
       "  </thead>\n",
       "  <tbody>\n",
       "    <tr>\n",
       "      <th>1990-01-02 00:00:00-05:00</th>\n",
       "      <td>353.399994</td>\n",
       "      <td>359.690002</td>\n",
       "      <td>351.980011</td>\n",
       "      <td>359.690002</td>\n",
       "      <td>162070000</td>\n",
       "      <td>358.760010</td>\n",
       "      <td>0</td>\n",
       "      <td>NaN</td>\n",
       "      <td>NaN</td>\n",
       "      <td>NaN</td>\n",
       "      <td>NaN</td>\n",
       "      <td>NaN</td>\n",
       "      <td>NaN</td>\n",
       "      <td>NaN</td>\n",
       "      <td>NaN</td>\n",
       "      <td>NaN</td>\n",
       "      <td>NaN</td>\n",
       "    </tr>\n",
       "    <tr>\n",
       "      <th>1990-01-03 00:00:00-05:00</th>\n",
       "      <td>359.690002</td>\n",
       "      <td>360.589996</td>\n",
       "      <td>357.890015</td>\n",
       "      <td>358.760010</td>\n",
       "      <td>192330000</td>\n",
       "      <td>355.670013</td>\n",
       "      <td>0</td>\n",
       "      <td>0.998706</td>\n",
       "      <td>NaN</td>\n",
       "      <td>NaN</td>\n",
       "      <td>NaN</td>\n",
       "      <td>NaN</td>\n",
       "      <td>NaN</td>\n",
       "      <td>NaN</td>\n",
       "      <td>NaN</td>\n",
       "      <td>NaN</td>\n",
       "      <td>NaN</td>\n",
       "    </tr>\n",
       "    <tr>\n",
       "      <th>1990-01-04 00:00:00-05:00</th>\n",
       "      <td>358.760010</td>\n",
       "      <td>358.760010</td>\n",
       "      <td>352.890015</td>\n",
       "      <td>355.670013</td>\n",
       "      <td>177000000</td>\n",
       "      <td>352.200012</td>\n",
       "      <td>0</td>\n",
       "      <td>0.995675</td>\n",
       "      <td>0.0</td>\n",
       "      <td>NaN</td>\n",
       "      <td>NaN</td>\n",
       "      <td>NaN</td>\n",
       "      <td>NaN</td>\n",
       "      <td>NaN</td>\n",
       "      <td>NaN</td>\n",
       "      <td>NaN</td>\n",
       "      <td>NaN</td>\n",
       "    </tr>\n",
       "    <tr>\n",
       "      <th>1990-01-05 00:00:00-05:00</th>\n",
       "      <td>355.670013</td>\n",
       "      <td>355.670013</td>\n",
       "      <td>351.350006</td>\n",
       "      <td>352.200012</td>\n",
       "      <td>158530000</td>\n",
       "      <td>353.790009</td>\n",
       "      <td>1</td>\n",
       "      <td>0.995098</td>\n",
       "      <td>0.0</td>\n",
       "      <td>NaN</td>\n",
       "      <td>NaN</td>\n",
       "      <td>NaN</td>\n",
       "      <td>NaN</td>\n",
       "      <td>NaN</td>\n",
       "      <td>NaN</td>\n",
       "      <td>NaN</td>\n",
       "      <td>NaN</td>\n",
       "    </tr>\n",
       "    <tr>\n",
       "      <th>1990-01-08 00:00:00-05:00</th>\n",
       "      <td>352.200012</td>\n",
       "      <td>354.239990</td>\n",
       "      <td>350.540009</td>\n",
       "      <td>353.790009</td>\n",
       "      <td>140110000</td>\n",
       "      <td>349.619995</td>\n",
       "      <td>0</td>\n",
       "      <td>1.002252</td>\n",
       "      <td>1.0</td>\n",
       "      <td>0.993731</td>\n",
       "      <td>NaN</td>\n",
       "      <td>NaN</td>\n",
       "      <td>NaN</td>\n",
       "      <td>NaN</td>\n",
       "      <td>NaN</td>\n",
       "      <td>NaN</td>\n",
       "      <td>NaN</td>\n",
       "    </tr>\n",
       "    <tr>\n",
       "      <th>...</th>\n",
       "      <td>...</td>\n",
       "      <td>...</td>\n",
       "      <td>...</td>\n",
       "      <td>...</td>\n",
       "      <td>...</td>\n",
       "      <td>...</td>\n",
       "      <td>...</td>\n",
       "      <td>...</td>\n",
       "      <td>...</td>\n",
       "      <td>...</td>\n",
       "      <td>...</td>\n",
       "      <td>...</td>\n",
       "      <td>...</td>\n",
       "      <td>...</td>\n",
       "      <td>...</td>\n",
       "      <td>...</td>\n",
       "      <td>...</td>\n",
       "    </tr>\n",
       "    <tr>\n",
       "      <th>2024-06-14 00:00:00-04:00</th>\n",
       "      <td>5424.080078</td>\n",
       "      <td>5432.390137</td>\n",
       "      <td>5403.750000</td>\n",
       "      <td>5431.600098</td>\n",
       "      <td>3438650000</td>\n",
       "      <td>5473.229980</td>\n",
       "      <td>1</td>\n",
       "      <td>0.999803</td>\n",
       "      <td>1.0</td>\n",
       "      <td>1.005015</td>\n",
       "      <td>4.0</td>\n",
       "      <td>1.042196</td>\n",
       "      <td>33.0</td>\n",
       "      <td>1.143578</td>\n",
       "      <td>139.0</td>\n",
       "      <td>1.288757</td>\n",
       "      <td>531.0</td>\n",
       "    </tr>\n",
       "    <tr>\n",
       "      <th>2024-06-17 00:00:00-04:00</th>\n",
       "      <td>5431.109863</td>\n",
       "      <td>5488.500000</td>\n",
       "      <td>5420.399902</td>\n",
       "      <td>5473.229980</td>\n",
       "      <td>3447840000</td>\n",
       "      <td>5487.029785</td>\n",
       "      <td>1</td>\n",
       "      <td>1.003818</td>\n",
       "      <td>1.0</td>\n",
       "      <td>1.008521</td>\n",
       "      <td>4.0</td>\n",
       "      <td>1.049406</td>\n",
       "      <td>33.0</td>\n",
       "      <td>1.151291</td>\n",
       "      <td>140.0</td>\n",
       "      <td>1.297899</td>\n",
       "      <td>531.0</td>\n",
       "    </tr>\n",
       "    <tr>\n",
       "      <th>2024-06-18 00:00:00-04:00</th>\n",
       "      <td>5476.149902</td>\n",
       "      <td>5490.379883</td>\n",
       "      <td>5471.319824</td>\n",
       "      <td>5487.029785</td>\n",
       "      <td>3544330000</td>\n",
       "      <td>5473.169922</td>\n",
       "      <td>0</td>\n",
       "      <td>1.001259</td>\n",
       "      <td>2.0</td>\n",
       "      <td>1.006919</td>\n",
       "      <td>4.0</td>\n",
       "      <td>1.051203</td>\n",
       "      <td>34.0</td>\n",
       "      <td>1.153106</td>\n",
       "      <td>141.0</td>\n",
       "      <td>1.300407</td>\n",
       "      <td>532.0</td>\n",
       "    </tr>\n",
       "    <tr>\n",
       "      <th>2024-06-20 00:00:00-04:00</th>\n",
       "      <td>5499.990234</td>\n",
       "      <td>5505.529785</td>\n",
       "      <td>5455.560059</td>\n",
       "      <td>5473.169922</td>\n",
       "      <td>3847060000</td>\n",
       "      <td>5464.620117</td>\n",
       "      <td>0</td>\n",
       "      <td>0.998735</td>\n",
       "      <td>1.0</td>\n",
       "      <td>1.002457</td>\n",
       "      <td>3.0</td>\n",
       "      <td>1.047694</td>\n",
       "      <td>34.0</td>\n",
       "      <td>1.149140</td>\n",
       "      <td>140.0</td>\n",
       "      <td>1.296379</td>\n",
       "      <td>531.0</td>\n",
       "    </tr>\n",
       "    <tr>\n",
       "      <th>2024-06-21 00:00:00-04:00</th>\n",
       "      <td>5466.770020</td>\n",
       "      <td>5478.310059</td>\n",
       "      <td>5452.029785</td>\n",
       "      <td>5464.620117</td>\n",
       "      <td>6773800000</td>\n",
       "      <td>NaN</td>\n",
       "      <td>0</td>\n",
       "      <td>0.999218</td>\n",
       "      <td>0.0</td>\n",
       "      <td>0.999760</td>\n",
       "      <td>2.0</td>\n",
       "      <td>1.045187</td>\n",
       "      <td>34.0</td>\n",
       "      <td>1.146270</td>\n",
       "      <td>140.0</td>\n",
       "      <td>1.293630</td>\n",
       "      <td>530.0</td>\n",
       "    </tr>\n",
       "  </tbody>\n",
       "</table>\n",
       "<p>8684 rows × 17 columns</p>\n",
       "</div>"
      ],
      "text/plain": [
       "                                  Open         High          Low        Close  \\\n",
       "Date                                                                            \n",
       "1990-01-02 00:00:00-05:00   353.399994   359.690002   351.980011   359.690002   \n",
       "1990-01-03 00:00:00-05:00   359.690002   360.589996   357.890015   358.760010   \n",
       "1990-01-04 00:00:00-05:00   358.760010   358.760010   352.890015   355.670013   \n",
       "1990-01-05 00:00:00-05:00   355.670013   355.670013   351.350006   352.200012   \n",
       "1990-01-08 00:00:00-05:00   352.200012   354.239990   350.540009   353.790009   \n",
       "...                                ...          ...          ...          ...   \n",
       "2024-06-14 00:00:00-04:00  5424.080078  5432.390137  5403.750000  5431.600098   \n",
       "2024-06-17 00:00:00-04:00  5431.109863  5488.500000  5420.399902  5473.229980   \n",
       "2024-06-18 00:00:00-04:00  5476.149902  5490.379883  5471.319824  5487.029785   \n",
       "2024-06-20 00:00:00-04:00  5499.990234  5505.529785  5455.560059  5473.169922   \n",
       "2024-06-21 00:00:00-04:00  5466.770020  5478.310059  5452.029785  5464.620117   \n",
       "\n",
       "                               Volume     Tomorrow  Target  Close_Ratio_2  \\\n",
       "Date                                                                        \n",
       "1990-01-02 00:00:00-05:00   162070000   358.760010       0            NaN   \n",
       "1990-01-03 00:00:00-05:00   192330000   355.670013       0       0.998706   \n",
       "1990-01-04 00:00:00-05:00   177000000   352.200012       0       0.995675   \n",
       "1990-01-05 00:00:00-05:00   158530000   353.790009       1       0.995098   \n",
       "1990-01-08 00:00:00-05:00   140110000   349.619995       0       1.002252   \n",
       "...                               ...          ...     ...            ...   \n",
       "2024-06-14 00:00:00-04:00  3438650000  5473.229980       1       0.999803   \n",
       "2024-06-17 00:00:00-04:00  3447840000  5487.029785       1       1.003818   \n",
       "2024-06-18 00:00:00-04:00  3544330000  5473.169922       0       1.001259   \n",
       "2024-06-20 00:00:00-04:00  3847060000  5464.620117       0       0.998735   \n",
       "2024-06-21 00:00:00-04:00  6773800000          NaN       0       0.999218   \n",
       "\n",
       "                           Trend_2  Close_Ratio_5  Trend_5  Close_Ratio_60  \\\n",
       "Date                                                                         \n",
       "1990-01-02 00:00:00-05:00      NaN            NaN      NaN             NaN   \n",
       "1990-01-03 00:00:00-05:00      NaN            NaN      NaN             NaN   \n",
       "1990-01-04 00:00:00-05:00      0.0            NaN      NaN             NaN   \n",
       "1990-01-05 00:00:00-05:00      0.0            NaN      NaN             NaN   \n",
       "1990-01-08 00:00:00-05:00      1.0       0.993731      NaN             NaN   \n",
       "...                            ...            ...      ...             ...   \n",
       "2024-06-14 00:00:00-04:00      1.0       1.005015      4.0        1.042196   \n",
       "2024-06-17 00:00:00-04:00      1.0       1.008521      4.0        1.049406   \n",
       "2024-06-18 00:00:00-04:00      2.0       1.006919      4.0        1.051203   \n",
       "2024-06-20 00:00:00-04:00      1.0       1.002457      3.0        1.047694   \n",
       "2024-06-21 00:00:00-04:00      0.0       0.999760      2.0        1.045187   \n",
       "\n",
       "                           Trend_60  Close_Ratio_250  Trend_250  \\\n",
       "Date                                                              \n",
       "1990-01-02 00:00:00-05:00       NaN              NaN        NaN   \n",
       "1990-01-03 00:00:00-05:00       NaN              NaN        NaN   \n",
       "1990-01-04 00:00:00-05:00       NaN              NaN        NaN   \n",
       "1990-01-05 00:00:00-05:00       NaN              NaN        NaN   \n",
       "1990-01-08 00:00:00-05:00       NaN              NaN        NaN   \n",
       "...                             ...              ...        ...   \n",
       "2024-06-14 00:00:00-04:00      33.0         1.143578      139.0   \n",
       "2024-06-17 00:00:00-04:00      33.0         1.151291      140.0   \n",
       "2024-06-18 00:00:00-04:00      34.0         1.153106      141.0   \n",
       "2024-06-20 00:00:00-04:00      34.0         1.149140      140.0   \n",
       "2024-06-21 00:00:00-04:00      34.0         1.146270      140.0   \n",
       "\n",
       "                           Close_Ratio_1000  Trend_1000  \n",
       "Date                                                     \n",
       "1990-01-02 00:00:00-05:00               NaN         NaN  \n",
       "1990-01-03 00:00:00-05:00               NaN         NaN  \n",
       "1990-01-04 00:00:00-05:00               NaN         NaN  \n",
       "1990-01-05 00:00:00-05:00               NaN         NaN  \n",
       "1990-01-08 00:00:00-05:00               NaN         NaN  \n",
       "...                                     ...         ...  \n",
       "2024-06-14 00:00:00-04:00          1.288757       531.0  \n",
       "2024-06-17 00:00:00-04:00          1.297899       531.0  \n",
       "2024-06-18 00:00:00-04:00          1.300407       532.0  \n",
       "2024-06-20 00:00:00-04:00          1.296379       531.0  \n",
       "2024-06-21 00:00:00-04:00          1.293630       530.0  \n",
       "\n",
       "[8684 rows x 17 columns]"
      ]
     },
     "execution_count": 117,
     "metadata": {},
     "output_type": "execute_result"
    }
   ],
   "source": [
    "sp500"
   ]
  },
  {
   "cell_type": "code",
   "execution_count": 118,
   "id": "a9078196-77fb-4a76-ae71-6b74d0730d90",
   "metadata": {},
   "outputs": [],
   "source": [
    "model = RandomForestClassifier(n_estimators=200, min_samples_split=50, random_state=1)"
   ]
  },
  {
   "cell_type": "code",
   "execution_count": 119,
   "id": "56616e2f-a354-4d63-a04c-1181993f31e7",
   "metadata": {},
   "outputs": [],
   "source": [
    "def predict(train, test, predictors, model):\n",
    "    model.fit(train[predictors], train[\"Target\"])\n",
    "    preds = model.predict_proba(test[predictors])[:,1]\n",
    "    preds[preds >=.6]= 1\n",
    "    preds[preds<.6]=0\n",
    "    preds = pd.Series(preds, index=test.index, name=\"Predictions\")\n",
    "    combined = pd.concat([test[\"Target\"], preds], axis=1)\n",
    "    return combined"
   ]
  },
  {
   "cell_type": "code",
   "execution_count": 120,
   "id": "46c6fb42-bf13-4a0d-8b97-aee3a9f540ea",
   "metadata": {},
   "outputs": [],
   "source": [
    "predictions = backtest(sp500, model, new_predictors)"
   ]
  },
  {
   "cell_type": "code",
   "execution_count": 121,
   "id": "7f28eee9-6a2c-4c68-b448-9c85e4688f6a",
   "metadata": {},
   "outputs": [
    {
     "data": {
      "text/plain": [
       "Predictions\n",
       "0.0    5166\n",
       "1.0    1018\n",
       "Name: count, dtype: int64"
      ]
     },
     "execution_count": 121,
     "metadata": {},
     "output_type": "execute_result"
    }
   ],
   "source": [
    "predictions[\"Predictions\"].value_counts()"
   ]
  },
  {
   "cell_type": "code",
   "execution_count": 123,
   "id": "2bbd2eab-aab2-48a9-a8c6-5e1e742974ff",
   "metadata": {},
   "outputs": [
    {
     "data": {
      "text/plain": [
       "0.5432220039292731"
      ]
     },
     "execution_count": 123,
     "metadata": {},
     "output_type": "execute_result"
    }
   ],
   "source": [
    "precision_score(predictions[\"Target\"], predictions[\"Predictions\"] )"
   ]
  },
  {
   "cell_type": "code",
   "execution_count": null,
   "id": "2e2cf826-242f-4cff-a3a9-44f5b899f233",
   "metadata": {},
   "outputs": [],
   "source": []
  }
 ],
 "metadata": {
  "kernelspec": {
   "display_name": "Python 3 (ipykernel)",
   "language": "python",
   "name": "python3"
  },
  "language_info": {
   "codemirror_mode": {
    "name": "ipython",
    "version": 3
   },
   "file_extension": ".py",
   "mimetype": "text/x-python",
   "name": "python",
   "nbconvert_exporter": "python",
   "pygments_lexer": "ipython3",
   "version": "3.12.3"
  }
 },
 "nbformat": 4,
 "nbformat_minor": 5
}
